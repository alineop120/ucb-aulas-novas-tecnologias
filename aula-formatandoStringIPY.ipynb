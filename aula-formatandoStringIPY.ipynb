{
  "cells": [
    {
      "cell_type": "markdown",
      "metadata": {
        "id": "PjqB9665tr32"
      },
      "source": [
        "# Formatando String\n",
        "\n",
        "A formatação de sequência permite injetar nos itens de sequência em vez de tentar encadear itens usando vírgulas ou concatenação de sequência. Como uma comparação rápida, considere:\n",
        "\n",
        "jogador = 'Jorge'\n",
        "\n",
        "pontos = 33\n",
        "\n",
        "Print('Ontem à noite, ' + jogador + ' marcou ' + str (pontos) + ' pontos') # concatenação\n",
        "\n",
        "print(f'Na noite passada, {jogador} marcou {pontos} pontos. ') # formatação de string\n",
        "\n",
        "\n",
        "Existem três maneiras de executar a formatação de string.\n",
        "* O método mais antigo envolve espaços reservados usando o módulo de caracteres `%`.\n",
        "* Uma técnica aprimorada usa o método `.format ()`.\n",
        "* O método mais recente, Introduzido no Python 3.6, usa literais de string formatados, chamados string **f**.\n",
        "\n",
        "Como você provavelmente encontrará as três versões no código de outra pessoa, descrevemos cada uma delas aqui.\n",
        "\n",
        "Documentação https://docs.python.org/3/whatsnew/2.6.html#pep-3101-advanced-string-formatting\n",
        "\n"
      ]
    },
    {
      "cell_type": "code",
      "source": [
        "jogador = 'Jorge'\n",
        "\n",
        "pontos = 33\n"
      ],
      "metadata": {
        "id": "liSca5gs1EOX"
      },
      "execution_count": null,
      "outputs": []
    },
    {
      "cell_type": "code",
      "source": [
        "print('Ontem à noite, ' + jogador + ' marcou ' + str (pontos) + ' pontos') # concatenação"
      ],
      "metadata": {
        "colab": {
          "base_uri": "https://localhost:8080/"
        },
        "id": "N-_gh9V9uT08",
        "outputId": "a238d244-1874-481a-f5a4-01e8acc326a3"
      },
      "execution_count": null,
      "outputs": [
        {
          "output_type": "stream",
          "name": "stdout",
          "text": [
            "Ontem à noite, Jorge marcou 33 pontos\n"
          ]
        }
      ]
    },
    {
      "cell_type": "markdown",
      "source": [],
      "metadata": {
        "id": "P0S6NvEevYmx"
      }
    },
    {
      "cell_type": "markdown",
      "metadata": {
        "id": "2lNkudaDtr33"
      },
      "source": [
        "## Formatação com espaços reservados\n",
        "Você pode usar <code>%s</code> para injetar strings nas instruções de impressão. O módulo `%` é chamado de \"operador de formatação de string\"."
      ]
    },
    {
      "cell_type": "code",
      "execution_count": null,
      "metadata": {
        "colab": {
          "base_uri": "https://localhost:8080/"
        },
        "id": "M8BU2VPjtr34",
        "outputId": "2ff55a82-7736-4d6d-e2a9-152365cc2bcf"
      },
      "outputs": [
        {
          "output_type": "stream",
          "name": "stdout",
          "text": [
            "Vou injetar alguma coisa aqui.\n"
          ]
        }
      ],
      "source": [
        "print (\"Vou injetar %s aqui.\"% 'alguma coisa')"
      ]
    },
    {
      "cell_type": "code",
      "execution_count": 1,
      "metadata": {
        "colab": {
          "base_uri": "https://localhost:8080/"
        },
        "id": "7nnAW4YStr34",
        "outputId": "bb862de4-bcb2-4ff8-c218-786ed9390d22"
      },
      "outputs": [
        {
          "output_type": "stream",
          "name": "stdout",
          "text": [
            "Meu nome é William.\n"
          ]
        }
      ],
      "source": [
        "print (\"Meu nome é %s.\"% 'William')"
      ]
    },
    {
      "cell_type": "markdown",
      "metadata": {
        "id": "chSvsM8Utr34"
      },
      "source": [
        "Você pode passar vários itens colocando-os dentro de uma tupla após o operador `%`."
      ]
    },
    {
      "cell_type": "code",
      "execution_count": 2,
      "metadata": {
        "id": "u5hDrxL3tr35",
        "outputId": "93afdac7-b13c-4274-a68e-0fe238c2e6e1",
        "colab": {
          "base_uri": "https://localhost:8080/"
        }
      },
      "outputs": [
        {
          "output_type": "stream",
          "name": "stdout",
          "text": [
            "Vou injetar algo texto aqui e mais texto aqui.\n"
          ]
        }
      ],
      "source": [
        "print (\"Vou injetar %s texto aqui e %s texto aqui.\"% ('algo', 'mais'))"
      ]
    },
    {
      "cell_type": "markdown",
      "metadata": {
        "id": "o08slsMQtr35"
      },
      "source": [
        "Você também pode passar nomes de variáveis:"
      ]
    },
    {
      "cell_type": "code",
      "execution_count": 3,
      "metadata": {
        "id": "MXjSayhNtr35",
        "outputId": "0edf0d1c-8d61-47d2-ed9a-c481b47063d3",
        "colab": {
          "base_uri": "https://localhost:8080/"
        }
      },
      "outputs": [
        {
          "output_type": "stream",
          "name": "stdout",
          "text": [
            "Vou injetar alguns texto aqui e mais texto aqui.\n"
          ]
        }
      ],
      "source": [
        "x, y = 'alguns', 'mais'\n",
        "print (\"Vou injetar %s texto aqui e %s texto aqui.\"% (x, y))"
      ]
    },
    {
      "cell_type": "markdown",
      "metadata": {
        "id": "goe5OY1ntr35"
      },
      "source": [
        "### Format métodos de conversão.\n",
        "Deve-se notar que dois métodos <code>%s</code> e <code>%r</code> convertem qualquer objeto python em uma string usando dois métodos separados: `str()` e `repr()`. Aprenderemos mais sobre essas funções mais adiante neste curso, mas você deve observar que `%r` e `repr()` entregam a **representação de string** do objeto, incluindo aspas e quaisquer caracteres de escape."
      ]
    },
    {
      "cell_type": "code",
      "execution_count": 4,
      "metadata": {
        "id": "s3RB_vEAtr35",
        "outputId": "7baf1db4-2435-4570-ca72-e80e0a3c90a7",
        "colab": {
          "base_uri": "https://localhost:8080/"
        }
      },
      "outputs": [
        {
          "output_type": "stream",
          "name": "stdout",
          "text": [
            "Ele disse que seu nome era Fred.\n",
            "Ele disse que seu nome era 'Fred'.\n"
          ]
        }
      ],
      "source": [
        "print ('Ele disse que seu nome era %s.' % 'Fred')\n",
        "print ('Ele disse que seu nome era %r.' % 'Fred')"
      ]
    },
    {
      "cell_type": "markdown",
      "metadata": {
        "id": "fdG1mUbltr35"
      },
      "source": [
        "Um outro exemplo, `\\t` insere uma tab em uma sequência."
      ]
    },
    {
      "cell_type": "code",
      "execution_count": null,
      "metadata": {
        "id": "uXS5sjMYtr35",
        "outputId": "6c6e1162-8e7d-4347-95e4-8fec2958b360"
      },
      "outputs": [
        {
          "name": "stdout",
          "output_type": "stream",
          "text": [
            "Eu peguei um peixe muito \t grande.\n",
            "uma vez peguei um peixe 'muito \\t grande'.\n"
          ]
        }
      ],
      "source": [
        "print('Eu peguei um peixe %s.'%'muito \\t grande')\n",
        "print('uma vez peguei um peixe %r.'%'muito \\t grande')"
      ]
    },
    {
      "cell_type": "markdown",
      "metadata": {
        "id": "gAThui_qtr35"
      },
      "source": [
        "O operador `%s` converte o que vê em uma string, incluindo números inteiros e flutuantes. O operador `%d` converte números em números inteiros primeiro, sem arredondamento. Observe a diferença abaixo:"
      ]
    },
    {
      "cell_type": "code",
      "execution_count": null,
      "metadata": {
        "id": "vjjcIFH_tr35",
        "outputId": "e74eae11-a9a6-41d0-d56e-c3e4c63d5269"
      },
      "outputs": [
        {
          "name": "stdout",
          "output_type": "stream",
          "text": [
            "escrevi 3.0075 programas hoje.\n",
            "escrevi 3 programas hoje.\n"
          ]
        }
      ],
      "source": [
        "print ('escrevi %s programas hoje.'% 3.007500)\n",
        "print ('escrevi %d programas hoje.'% 3.7500)"
      ]
    },
    {
      "cell_type": "markdown",
      "metadata": {
        "id": "rwCuHXSetr35"
      },
      "source": [
        "### Preenchimento e precisão de números de ponto flutuante\n",
        "Os números de ponto flutuante usam o formato <code>%5.2f</code>. Aqui, <code>5</code> seria o número mínimo de caracteres que a string deve conter; estes podem ser preenchidos com espaço em branco se o número inteiro não tiver tantos dígitos. Além disso, <code>.2f</code> representa quantos números serão exibidos após o ponto decimal. Vamos ver alguns exemplos:"
      ]
    },
    {
      "cell_type": "code",
      "execution_count": 7,
      "metadata": {
        "id": "ZRk5R_xBtr35",
        "outputId": "82b5bc44-43c8-4da8-bc5c-08609b9ba1d9",
        "colab": {
          "base_uri": "https://localhost:8080/"
        }
      },
      "outputs": [
        {
          "output_type": "stream",
          "name": "stdout",
          "text": [
            "Números em ponto flutuante:      13.14\n"
          ]
        }
      ],
      "source": [
        "print('Números em ponto flutuante: %10.2f' %(13.144))"
      ]
    },
    {
      "cell_type": "code",
      "execution_count": null,
      "metadata": {
        "id": "52FdRG7Rtr35",
        "outputId": "d8ca6387-6644-4e1c-9604-05647726529b"
      },
      "outputs": [
        {
          "name": "stdout",
          "output_type": "stream",
          "text": [
            "Números em ponto flutuante: 13\n"
          ]
        }
      ],
      "source": [
        "print('Números em ponto flutuante: %1.0f' %(13.144))"
      ]
    },
    {
      "cell_type": "code",
      "execution_count": null,
      "metadata": {
        "id": "CMYNf94mtr36",
        "outputId": "a3440973-7161-4d9e-8a2a-e12691fbe924"
      },
      "outputs": [
        {
          "name": "stdout",
          "output_type": "stream",
          "text": [
            "Números em ponto flutuante: 13.14400\n"
          ]
        }
      ],
      "source": [
        "print('Números em ponto flutuante: %1.5f' %(13.144))"
      ]
    },
    {
      "cell_type": "code",
      "execution_count": null,
      "metadata": {
        "id": "3bJ54oiEtr36",
        "outputId": "9b79adc0-dff6-4d28-9826-ce98809ee042"
      },
      "outputs": [
        {
          "name": "stdout",
          "output_type": "stream",
          "text": [
            "Números em ponto flutuante:      13.14\n"
          ]
        }
      ],
      "source": [
        "print('Números em ponto flutuante: %10.2f' %(13.144))"
      ]
    },
    {
      "cell_type": "code",
      "execution_count": null,
      "metadata": {
        "id": "Eqqq2R3xtr36",
        "outputId": "1516e59c-8256-4b57-e9ab-43b866fa64bb"
      },
      "outputs": [
        {
          "name": "stdout",
          "output_type": "stream",
          "text": [
            "Números em ponto flutuante:                                             13.111\n"
          ]
        }
      ],
      "source": [
        "print('Números em ponto flutuante: %50.3f' %(13.1111000144))"
      ]
    },
    {
      "cell_type": "markdown",
      "metadata": {
        "id": "DS7YPrCitr36"
      },
      "source": [
        "Para maiores informações https://docs.python.org/3/library/stdtypes.html#old-string-formatting"
      ]
    },
    {
      "cell_type": "markdown",
      "metadata": {
        "id": "Oj5n_cnFtr36"
      },
      "source": [
        "### Multipla formatção\n",
        "Nada proíbe o uso de mais de uma ferramenta de conversão na mesma instrução de impressão:"
      ]
    },
    {
      "cell_type": "code",
      "execution_count": null,
      "metadata": {
        "id": "GM5IGOMptr36",
        "outputId": "79d96b65-bfc8-4d75-ef9e-442407211aec"
      },
      "outputs": [
        {
          "name": "stdout",
          "output_type": "stream",
          "text": [
            "Primeiro: Oi!, Segundo:  3.14, Terceiro: 'tchau!'\n"
          ]
        }
      ],
      "source": [
        "print('Primeiro: %s, Segundo: %5.2f, Terceiro: %r' %('Oi!',3.1415,'tchau!'))"
      ]
    },
    {
      "cell_type": "markdown",
      "metadata": {
        "id": "Efik_69jtr36"
      },
      "source": [
        "## Formatando com método `.format()`\n",
        "Uma maneira melhor de formatar objetos em suas seqüências de caracteres para instruções de impressão é com o método string `.format()`. A sintaxe é:\n",
        "\n",
        "    'String aqui {} então {}'.format('palavra1','palavra2')\n",
        "    \n",
        "Por exemplo:"
      ]
    },
    {
      "cell_type": "code",
      "execution_count": 8,
      "metadata": {
        "id": "I1J0zMo6tr36",
        "outputId": "05e34941-2951-465f-ff28-a0da6d47e1a8",
        "colab": {
          "base_uri": "https://localhost:8080/"
        }
      },
      "outputs": [
        {
          "output_type": "stream",
          "name": "stdout",
          "text": [
            "Esta é uma string com uma inserção\n"
          ]
        }
      ],
      "source": [
        "print('Esta é uma string com uma {}'.format('inserção'))"
      ]
    },
    {
      "cell_type": "markdown",
      "metadata": {
        "id": "FmWa1fxPtr36"
      },
      "source": [
        "### O método .format() tem muitas vantagens sobre o método %s:"
      ]
    },
    {
      "cell_type": "markdown",
      "metadata": {
        "id": "tetkrwIEtr36"
      },
      "source": [
        "#### 1. Os objetos inseridos podem ser chamados pela posição do índice:"
      ]
    },
    {
      "cell_type": "code",
      "execution_count": null,
      "metadata": {
        "id": "psUCDF7Ztr36",
        "outputId": "b892850e-4a51-46c3-c981-31c60ce2cd79"
      },
      "outputs": [
        {
          "name": "stdout",
          "output_type": "stream",
          "text": [
            "A raposa marron é rápida\n"
          ]
        }
      ],
      "source": [
        "print('A {2} {1} {3} {0}'.format('rápida','marron','raposa', 'é'))"
      ]
    },
    {
      "cell_type": "markdown",
      "metadata": {
        "id": "03S2QjTYtr36"
      },
      "source": [
        "#### 2. Objetos inseridos podem receber palavras-chave atribuídas:"
      ]
    },
    {
      "cell_type": "code",
      "execution_count": null,
      "metadata": {
        "id": "U9xZaP64tr36",
        "outputId": "2c567d75-1a0f-4873-8230-5129a6ef4cc1"
      },
      "outputs": [
        {
          "name": "stdout",
          "output_type": "stream",
          "text": [
            "Primeiro objeto: 1, Segundo objeto: Dois, Terceiro objeto: 12.3\n"
          ]
        }
      ],
      "source": [
        "print('Primeiro objeto: {a}, Segundo objeto: {b}, Terceiro objeto: {c}'.format(a=1,b='Dois',c=12.3))"
      ]
    },
    {
      "cell_type": "markdown",
      "metadata": {
        "id": "Sl7J_WbVtr36"
      },
      "source": [
        "#### 3. Objetos inseridos podem ser reutilizados, evitando duplicação:"
      ]
    },
    {
      "cell_type": "code",
      "execution_count": null,
      "metadata": {
        "colab": {
          "base_uri": "https://localhost:8080/"
        },
        "id": "A9SoN-L-tr36",
        "outputId": "9ddc5566-8fe4-421a-a614-13c9351d0b5e"
      },
      "outputs": [
        {
          "output_type": "stream",
          "name": "stdout",
          "text": [
            "Um centavo poupado já é um centavo economizado .\n",
            "Um centavo poupado já é um centavo economizado.\n"
          ]
        }
      ],
      "source": [
        "print('Um %s poupado já é um %s %s .' %('centavo','centavo','economizado'))\n",
        "# versus.\n",
        "print('Um {p} poupado já é um {p} economizado.'.format(p='centavo'))"
      ]
    },
    {
      "cell_type": "markdown",
      "metadata": {
        "id": "avPdZw1Otr36"
      },
      "source": [
        "### Alinhamento, preenchimento e precisão com `.format()`\n",
        "Dentro das chaves, você pode atribuir comprimentos de campos, alinhamentos esquerdo direito, parâmetros de arredondamento e muito mais"
      ]
    },
    {
      "cell_type": "code",
      "execution_count": 11,
      "metadata": {
        "colab": {
          "base_uri": "https://localhost:8080/"
        },
        "id": "A5HwKrvgtr36",
        "outputId": "9a9d159e-c1e4-40a2-d617-9bbec811eee6"
      },
      "outputs": [
        {
          "output_type": "stream",
          "name": "stdout",
          "text": [
            "Fruta    | Quantidade   | Preco               \n",
            "Maça     |          3.0 | R$ 2.50             \n",
            "Laranjas |           10 | R$ 1.00             \n"
          ]
        }
      ],
      "source": [
        "print('{0:8} | {1:12} | {2:20}'.format('Fruta', 'Quantidade', 'Preco'))\n",
        "print('{0:8} | {1:12} | {2:20}'.format('Maça', 3., 'R$ 2.50'))\n",
        "print('{0:8} | {1:12} | {2:20}'.format('Laranjas', 10, 'R$ 1.00'))"
      ]
    },
    {
      "cell_type": "markdown",
      "metadata": {
        "id": "U3-zyUlbtr36"
      },
      "source": [
        "Por padrão, `.format()` alinha o texto à esquerda e os números à direita. Você pode passar um `<`, `^` ou `>` opcional para definir um alinhamento à esquerda, ao centro ou à direita:"
      ]
    },
    {
      "cell_type": "code",
      "execution_count": null,
      "metadata": {
        "colab": {
          "base_uri": "https://localhost:8080/"
        },
        "id": "aQ0QaCBStr37",
        "outputId": "8ecf6cac-ea52-43eb-fe73-e16ef0375b4a"
      },
      "outputs": [
        {
          "output_type": "stream",
          "name": "stdout",
          "text": [
            "Esquerda |  Centro  |  Direita\n",
            "11       |    22    |       33\n"
          ]
        }
      ],
      "source": [
        "print('{0:<8} | {1:^8} | {2:>8}'.format('Esquerda','Centro','Direita'))\n",
        "print('{0:<8} | {1:^8} | {2:>8}'.format(11,22,33))"
      ]
    },
    {
      "cell_type": "markdown",
      "metadata": {
        "id": "7lroYkHftr37"
      },
      "source": [
        "\n",
        "Você pode preceder o operador de alinhamento com um caractere de preenchimento"
      ]
    },
    {
      "cell_type": "code",
      "execution_count": null,
      "metadata": {
        "colab": {
          "base_uri": "https://localhost:8080/"
        },
        "id": "b9M2y3g0tr37",
        "outputId": "303d3005-0095-4003-c308-41ff4aa5f29c"
      },
      "outputs": [
        {
          "output_type": "stream",
          "name": "stdout",
          "text": [
            "Esquerda= | --Centro-- | ..Direita\n",
            "11======= | ----22---- | .......33\n"
          ]
        }
      ],
      "source": [
        "print('{0:=<9} | {1:-^10} | {2:.>9}'.format('Esquerda','Centro','Direita'))\n",
        "print('{0:=<9} | {1:-^10} | {2:.>9}'.format(11,22,33))"
      ]
    },
    {
      "cell_type": "markdown",
      "metadata": {
        "id": "N52IJIqItr37"
      },
      "source": [
        "As larguras de campo e a precisão de flutuação são tratadas de maneira semelhante aos espaços reservados. As duas instruções de impressão a seguir são equivalentes:"
      ]
    },
    {
      "cell_type": "code",
      "execution_count": null,
      "metadata": {
        "id": "Aaavszpitr4C",
        "outputId": "546f1d2f-1ff9-4b50-afce-d30f42f2f2b8"
      },
      "outputs": [
        {
          "name": "stdout",
          "output_type": "stream",
          "text": [
            "Este é meu número de dez caracteres e duas casas decimais:     13.58\n",
            "Este é meu número de dez caracteres e duas casas decimais:     13.58\n"
          ]
        }
      ],
      "source": [
        "print('Este é meu número de dez caracteres e duas casas decimais:%10.2f' %13.579)\n",
        "print('Este é meu número de dez caracteres e duas casas decimais:{0:10.2f}'.format(13.579))"
      ]
    },
    {
      "cell_type": "markdown",
      "metadata": {
        "id": "M8zZq6ULtr4C"
      },
      "source": [
        "Observe que existem 5 espaços após os dois pontos e 5 caracteres ocupados por 13,58, para um total de dez caracteres.\n",
        "\n",
        "Para mais informações sobre o método `.format()` https://docs.python.org/3/library/string.html#formatstrings"
      ]
    },
    {
      "cell_type": "markdown",
      "metadata": {
        "id": "cs7YdeZ-tr4C"
      },
      "source": [
        "## String Literal Formatada (f-strings)"
      ]
    },
    {
      "cell_type": "markdown",
      "metadata": {
        "id": "byIWRq9ytr4C"
      },
      "source": [
        "Introduzido no Python 3.6, as f-strings oferecem vários benefícios sobre o método de string `.format()` mais antigo descrito acima. Por um lado, você pode trazer variáveis externas imediatamente para a string em vez de passá-las como argumentos por meio de `.format(var)`."
      ]
    },
    {
      "cell_type": "code",
      "execution_count": null,
      "metadata": {
        "id": "cKdcoQcxtr4C",
        "outputId": "5659a38d-6c0d-4190-ffe7-9a2827f5d722"
      },
      "outputs": [
        {
          "name": "stdout",
          "output_type": "stream",
          "text": [
            "Ele disse que o nome dele é Frederico.\n"
          ]
        }
      ],
      "source": [
        "name = 'Frederico'\n",
        "\n",
        "print(f\"Ele disse que o nome dele é {name}.\")"
      ]
    },
    {
      "cell_type": "markdown",
      "metadata": {
        "id": "2o8xUTjmtr4C"
      },
      "source": [
        "Passe `!r` para obter a representação da string:"
      ]
    },
    {
      "cell_type": "code",
      "execution_count": null,
      "metadata": {
        "id": "b4QZcYyUtr4C",
        "outputId": "85b9e92c-d9e0-4faf-d971-f6bf76fcd28b"
      },
      "outputs": [
        {
          "name": "stdout",
          "output_type": "stream",
          "text": [
            "Ele disse que o nome dele é 'Frederico'\n"
          ]
        }
      ],
      "source": [
        "print(f\"Ele disse que o nome dele é {name!r}\")"
      ]
    },
    {
      "cell_type": "markdown",
      "metadata": {
        "id": "_9TH6ua_tr4C"
      },
      "source": [
        "#### A formatação para ponto flutuante  `\"result: {value:{width}.{precision}}\"`"
      ]
    },
    {
      "cell_type": "markdown",
      "metadata": {
        "id": "z4h-gJUwtr4C"
      },
      "source": [
        "Onde o método `.format()` equivale `{valor:10.4f}`, com f-strings  `{value:{10}.{6}}`\n"
      ]
    },
    {
      "cell_type": "code",
      "execution_count": null,
      "metadata": {
        "colab": {
          "base_uri": "https://localhost:8080/"
        },
        "id": "u_tVe_0-tr4C",
        "outputId": "62cacc98-0581-434f-c53d-7cd08b872083"
      },
      "outputs": [
        {
          "output_type": "stream",
          "name": "stdout",
          "text": [
            "Meus 10 caracteres, quatro decimais:   23.4568\n",
            "Meus 10 caracteres, quatro decimais:   23.4568\n"
          ]
        }
      ],
      "source": [
        "num = 23.45678\n",
        "print(\"Meus 10 caracteres, quatro decimais:{0:10.4f}\".format(num))\n",
        "print(f\"Meus 10 caracteres, quatro decimais:{num:{10}.{6}}\")"
      ]
    },
    {
      "cell_type": "markdown",
      "metadata": {
        "id": "qO_SlE0vtr4C"
      },
      "source": [
        "Observe que, com as strings f, **precisão** refere-se ao número total de dígitos, não apenas aos que seguem o decimal. Isso se ajusta mais à notação científica e análise estatística. Infelizmente, as strings f não se ajustam à direita do decimal, mesmo que a precisão permita:"
      ]
    },
    {
      "cell_type": "code",
      "execution_count": null,
      "metadata": {
        "id": "jtMHfvlstr4D",
        "outputId": "94dc66df-4090-44b8-cb27-414bd36c5891"
      },
      "outputs": [
        {
          "name": "stdout",
          "output_type": "stream",
          "text": [
            "Meus 10 caracteres, quatro números decimais:   23.4500\n",
            "Meus 10 caracteres, quatro números decimais:     23.45\n"
          ]
        }
      ],
      "source": [
        "num = 23.45\n",
        "print(\"Meus 10 caracteres, quatro números decimais:{0:10.4f}\".format(num))\n",
        "print(f\"Meus 10 caracteres, quatro números decimais:{num:{10}.{6}}\")"
      ]
    },
    {
      "cell_type": "markdown",
      "metadata": {
        "id": "rY-OUrX-tr4D"
      },
      "source": [
        "Outra coisa, você sempre pode usar a sintaxe do método `.format()` dentro de uma string f:"
      ]
    },
    {
      "cell_type": "code",
      "execution_count": null,
      "metadata": {
        "id": "Y85bj6ONtr4D",
        "outputId": "d1af4459-dd39-4d3b-f9e6-b0e2de6f6a5e"
      },
      "outputs": [
        {
          "name": "stdout",
          "output_type": "stream",
          "text": [
            "Meus 10 caracteres, quatro números decimais:   23.4500\n",
            "Meus 10 caracteres, quatro números decimais:   23.4500\n"
          ]
        }
      ],
      "source": [
        "num = 23.45\n",
        "print(\"Meus 10 caracteres, quatro números decimais:{0:10.4f}\".format(num))\n",
        "print(f\"Meus 10 caracteres, quatro números decimais:{num:10.4f}\")"
      ]
    },
    {
      "cell_type": "markdown",
      "source": [
        "# Utilizando a datetime.\n",
        "**from datetime import datetime **\n",
        "Isso traz a ferramenta pra lidar com datas e horas no Python.\n",
        "\n",
        "data_atual = datetime.now()  \n",
        "\n",
        "Pega a data e hora atuais do computador (exemplo: 5 de março de 2025, por ser a data de hoje).\n",
        "\n"
      ],
      "metadata": {
        "id": "9sNIDy6G_vdh"
      }
    },
    {
      "cell_type": "code",
      "source": [
        "from datetime import datetime  # Importa a biblioteca pra usar datas\n",
        "\n",
        "# Pega a data e hora de agora\n",
        "data_atual = datetime.now()\n",
        "\n",
        "# Usa f-strings pra mostrar a data de jeitos diferentes\n",
        "print(f\"Data completa: {data_atual}\")\n",
        "print(f\"Só o dia: {data_atual.day}\")\n",
        "print(f\"Só o mês: {data_atual.month}\")\n",
        "print(f\"Só o ano: {data_atual.year}\")\n",
        "print(f\"Data formatada: {data_atual.strftime('%d/%m/%Y')}\")"
      ],
      "metadata": {
        "colab": {
          "base_uri": "https://localhost:8080/"
        },
        "id": "J9Cj24amABy_",
        "outputId": "23829ef6-9d39-4a41-f300-68fa805162a2"
      },
      "execution_count": 16,
      "outputs": [
        {
          "output_type": "stream",
          "name": "stdout",
          "text": [
            "Data completa: 2025-03-07 23:22:24.561008\n",
            "Só o dia: 7\n",
            "Só o mês: 3\n",
            "Só o ano: 2025\n",
            "Data formatada: 07/03/2025\n"
          ]
        }
      ]
    },
    {
      "cell_type": "markdown",
      "metadata": {
        "id": "8hWT4V35tr4D"
      },
      "source": [
        "Para maiores informações https://docs.python.org/3/reference/lexical_analysis.html#f-strings"
      ]
    }
  ],
  "metadata": {
    "kernelspec": {
      "display_name": "Python 3",
      "language": "python",
      "name": "python3"
    },
    "language_info": {
      "codemirror_mode": {
        "name": "ipython",
        "version": 3
      },
      "file_extension": ".py",
      "mimetype": "text/x-python",
      "name": "python",
      "nbconvert_exporter": "python",
      "pygments_lexer": "ipython3",
      "version": "3.7.3"
    },
    "colab": {
      "provenance": []
    }
  },
  "nbformat": 4,
  "nbformat_minor": 0
}